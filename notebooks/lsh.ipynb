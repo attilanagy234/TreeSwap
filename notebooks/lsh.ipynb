{
 "cells": [
  {
   "cell_type": "code",
   "execution_count": 4,
   "id": "nasty-disclaimer",
   "metadata": {},
   "outputs": [],
   "source": [
    "import numpy as np\n",
    "import pandas as pd\n",
    "import re\n",
    "import time\n",
    "from datasketch import MinHash, MinHashLSHForest, MinHashLSH"
   ]
  },
  {
   "cell_type": "code",
   "execution_count": 71,
   "id": "potential-alberta",
   "metadata": {},
   "outputs": [],
   "source": [
    "lines = []\n",
    "'''with open(\"../data/ftp.mokk.bme.hu/Hunglish2/modern.lit/bi/hunglish1.lit.bi\", 'r', encoding='utf_8') as file:\n",
    "    for l in file:\n",
    "        lines.append(re.split(r'\\t+', l.strip()))\n",
    "\n",
    "db = pd.DataFrame(lines, columns=[\"hun\", \"en\"])'''\n",
    "\n",
    "with open(\"../data/ftp.mokk.bme.hu/Hunglish2/combined/hunglish2small-test.hu\", 'r', encoding='utf_8') as file:\n",
    "    for l in file:\n",
    "        lines.append(l)\n",
    "db = pd.DataFrame(lines, columns=[\"hun\"])\n",
    "\n",
    "permutations = 128\n",
    "num_recommendations = 2"
   ]
  },
  {
   "cell_type": "code",
   "execution_count": 18,
   "id": "competent-highway",
   "metadata": {},
   "outputs": [
    {
     "data": {
      "text/html": [
       "<div>\n",
       "<style scoped>\n",
       "    .dataframe tbody tr th:only-of-type {\n",
       "        vertical-align: middle;\n",
       "    }\n",
       "\n",
       "    .dataframe tbody tr th {\n",
       "        vertical-align: top;\n",
       "    }\n",
       "\n",
       "    .dataframe thead th {\n",
       "        text-align: right;\n",
       "    }\n",
       "</style>\n",
       "<table border=\"1\" class=\"dataframe\">\n",
       "  <thead>\n",
       "    <tr style=\"text-align: right;\">\n",
       "      <th></th>\n",
       "      <th>hun</th>\n",
       "    </tr>\n",
       "  </thead>\n",
       "  <tbody>\n",
       "    <tr>\n",
       "      <th>0</th>\n",
       "      <td>Mindenkiben magamat látom, semmi többet és egy...</td>\n",
       "    </tr>\n",
       "    <tr>\n",
       "      <th>1</th>\n",
       "      <td>- Te nem hiszel bennem - jegyezte meg.\\n</td>\n",
       "    </tr>\n",
       "    <tr>\n",
       "      <th>2</th>\n",
       "      <td>- Hát ez mi légyen? - kérdezte Joe.\\n</td>\n",
       "    </tr>\n",
       "    <tr>\n",
       "      <th>3</th>\n",
       "      <td>Míg a cseresznyét szemelgette, az öregasszony ...</td>\n",
       "    </tr>\n",
       "    <tr>\n",
       "      <th>4</th>\n",
       "      <td>Míg a cseresznyét szemelgette, az öregasszony ...</td>\n",
       "    </tr>\n",
       "    <tr>\n",
       "      <th>...</th>\n",
       "      <td>...</td>\n",
       "    </tr>\n",
       "    <tr>\n",
       "      <th>23261</th>\n",
       "      <td>Tudod hatástalanítani, igaz?\\n</td>\n",
       "    </tr>\n",
       "    <tr>\n",
       "      <th>23262</th>\n",
       "      <td>Köszönöm.\\n</td>\n",
       "    </tr>\n",
       "    <tr>\n",
       "      <th>23263</th>\n",
       "      <td>Igen.\\n</td>\n",
       "    </tr>\n",
       "    <tr>\n",
       "      <th>23264</th>\n",
       "      <td>Az FBI nyomozott?\\n</td>\n",
       "    </tr>\n",
       "    <tr>\n",
       "      <th>23265</th>\n",
       "      <td>Meg Roman zenéje.\\n</td>\n",
       "    </tr>\n",
       "  </tbody>\n",
       "</table>\n",
       "<p>23266 rows × 1 columns</p>\n",
       "</div>"
      ],
      "text/plain": [
       "                                                     hun\n",
       "0      Mindenkiben magamat látom, semmi többet és egy...\n",
       "1               - Te nem hiszel bennem - jegyezte meg.\\n\n",
       "2                  - Hát ez mi légyen? - kérdezte Joe.\\n\n",
       "3      Míg a cseresznyét szemelgette, az öregasszony ...\n",
       "4      Míg a cseresznyét szemelgette, az öregasszony ...\n",
       "...                                                  ...\n",
       "23261                     Tudod hatástalanítani, igaz?\\n\n",
       "23262                                        Köszönöm.\\n\n",
       "23263                                            Igen.\\n\n",
       "23264                                Az FBI nyomozott?\\n\n",
       "23265                                Meg Roman zenéje.\\n\n",
       "\n",
       "[23266 rows x 1 columns]"
      ]
     },
     "execution_count": 18,
     "metadata": {},
     "output_type": "execute_result"
    }
   ],
   "source": [
    "db"
   ]
  },
  {
   "cell_type": "code",
   "execution_count": 10,
   "id": "arbitrary-satisfaction",
   "metadata": {},
   "outputs": [],
   "source": [
    "def preprocess(text):\n",
    "    text = re.sub(r'[^\\w\\s]','',text)\n",
    "    tokens = text.lower()\n",
    "    tokens = tokens.split()\n",
    "    return tokens"
   ]
  },
  {
   "cell_type": "code",
   "execution_count": 82,
   "id": "clean-welsh",
   "metadata": {},
   "outputs": [],
   "source": [
    "def get_forest(data, perms):\n",
    "    minhash = []\n",
    "    \n",
    "    for text in data[\"hun\"]:\n",
    "        tokens = preprocess(text)\n",
    "        m = MinHash(num_perm=perms)\n",
    "        for s in tokens:\n",
    "            m.update(s.encode('utf8'))\n",
    "        minhash.append(m)\n",
    "        \n",
    "    lsh = MinHashLSH(threshold=0.7, num_perm=perms)\n",
    "    for i,m in enumerate(minhash):\n",
    "        lsh.insert(i,m)\n",
    "    \n",
    "    return lsh"
   ]
  },
  {
   "cell_type": "code",
   "execution_count": 78,
   "id": "sacred-voice",
   "metadata": {},
   "outputs": [],
   "source": [
    "def predict(text, database, perms, num_results, forest):\n",
    "    start_time = time.time()\n",
    "    \n",
    "    tokens = preprocess(text)\n",
    "    m = MinHash(num_perm=perms)\n",
    "    for s in tokens:\n",
    "        m.update(s.encode('utf8'))\n",
    "        \n",
    "    idx_array = np.array(forest.query(m))\n",
    "\n",
    "    if len(idx_array) == 0:\n",
    "        return None\n",
    "    \n",
    "    return idx_array"
   ]
  },
  {
   "cell_type": "code",
   "execution_count": 79,
   "id": "catholic-error",
   "metadata": {},
   "outputs": [],
   "source": [
    "def make_sets(l):\n",
    "    ret = []\n",
    "    for i in range(len(l)):\n",
    "        for j in range(i+1, len(l)):\n",
    "            ret.append((l[i],l[j]))\n",
    "    return ret"
   ]
  },
  {
   "cell_type": "code",
   "execution_count": 83,
   "id": "romantic-segment",
   "metadata": {},
   "outputs": [],
   "source": [
    "forest = get_forest(db, permutations)"
   ]
  },
  {
   "cell_type": "code",
   "execution_count": 89,
   "id": "imposed-worship",
   "metadata": {},
   "outputs": [],
   "source": [
    "skip_indices = []\n",
    "for idx in range(len(db)):\n",
    "    if idx in skip_indices:\n",
    "        continue\n",
    "    pred = predict(db[\"hun\"][idx], db, permutations, num_recommendations, forest)\n",
    "    if len(pred) > 1:\n",
    "        '''print(\"Original:\")\n",
    "        print(idx)\n",
    "        print(db[\"hun\"][idx])\n",
    "        print(\"Preds:\")\n",
    "        for p in pred:\n",
    "            if p != idx:\n",
    "                print(p)\n",
    "                print(db[\"hun\"][p])\n",
    "        print(\"----\")'''\n",
    "        for p in pred:\n",
    "            if p != idx:\n",
    "                skip_indices.append(p)\n",
    "    #sets = make_sets(sorted(pred))\n",
    "    #for s in sets:\n",
    "    #    pairs.add(s)\n",
    "#print(pairs)"
   ]
  },
  {
   "cell_type": "code",
   "execution_count": 91,
   "id": "supreme-azerbaijan",
   "metadata": {},
   "outputs": [
    {
     "data": {
      "text/plain": [
       "13206"
      ]
     },
     "execution_count": 91,
     "metadata": {},
     "output_type": "execute_result"
    }
   ],
   "source": [
    "len(skip_indices)"
   ]
  },
  {
   "cell_type": "code",
   "execution_count": null,
   "id": "productive-lounge",
   "metadata": {},
   "outputs": [],
   "source": []
  }
 ],
 "metadata": {
  "kernelspec": {
   "display_name": "Python 3",
   "language": "python",
   "name": "python3"
  },
  "language_info": {
   "codemirror_mode": {
    "name": "ipython",
    "version": 3
   },
   "file_extension": ".py",
   "mimetype": "text/x-python",
   "name": "python",
   "nbconvert_exporter": "python",
   "pygments_lexer": "ipython3",
   "version": "3.8.5"
  }
 },
 "nbformat": 4,
 "nbformat_minor": 5
}
