{
 "cells": [
  {
   "cell_type": "code",
   "execution_count": 1,
   "id": "87212f2b",
   "metadata": {},
   "outputs": [],
   "source": [
    "import pandas as pd"
   ]
  },
  {
   "cell_type": "code",
   "execution_count": 2,
   "id": "93f0b219",
   "metadata": {},
   "outputs": [],
   "source": [
    "data_path = '../../data/Tatoeba/data/release/v2020-07-28/eng-hun'"
   ]
  },
  {
   "cell_type": "code",
   "execution_count": 3,
   "id": "927a3744",
   "metadata": {},
   "outputs": [
    {
     "name": "stdout",
     "output_type": "stream",
     "text": [
      "README.md  dev.src  langids  test.src  train.id.gz   train.trg.gz\r\n",
      "dev.id\t   dev.trg  test.id  test.trg  train.src.gz\r\n"
     ]
    }
   ],
   "source": [
    "!ls \"$data_path\""
   ]
  },
  {
   "cell_type": "code",
   "execution_count": 4,
   "id": "655a6a0e",
   "metadata": {},
   "outputs": [
    {
     "name": "stdout",
     "output_type": "stream",
     "text": [
      "There's safety in numbers.\r\n",
      "He seems honest.\r\n",
      "The bus driver didn't see the pedestrian.\r\n",
      "Tom didn't want to go there after dark.\r\n",
      "I can't blame you.\r\n",
      "Tom was convicted of manslaughter.\r\n",
      "He intends to visit his uncle.\r\n",
      "I am full of anxiety about the future.\r\n",
      "Kid, don't touch the mirror!\r\n",
      "I don't want to put it down.\r\n"
     ]
    }
   ],
   "source": [
    "!head \"$data_path\"/test.src"
   ]
  },
  {
   "cell_type": "markdown",
   "id": "605f8497",
   "metadata": {},
   "source": [
    "# Load datasets"
   ]
  },
  {
   "cell_type": "code",
   "execution_count": 5,
   "id": "e30f712e",
   "metadata": {},
   "outputs": [],
   "source": [
    "tatoeba_test_set_path_hun = '../../data/Tatoeba/data/release/v2020-07-28/eng-hun/test.trg'\n",
    "tatoeba_test_set_path_eng = '../../data/Tatoeba/data/release/v2020-07-28/eng-hun/test.src'"
   ]
  },
  {
   "cell_type": "code",
   "execution_count": 6,
   "id": "c5533787",
   "metadata": {},
   "outputs": [],
   "source": [
    "hun_sentences = []\n",
    "eng_sentences = []\n",
    "with open(tatoeba_test_set_path_hun, 'r') as hun_file:\n",
    "    with open(tatoeba_test_set_path_eng, 'r') as eng_file:\n",
    "        for hun_line, eng_line in zip(hun_file, eng_file):\n",
    "            hun_sentences.append(hun_line.strip())\n",
    "            eng_sentences.append(eng_line.strip())\n",
    "            \n",
    "data = {\n",
    "    'hun': hun_sentences,\n",
    "    'eng': eng_sentences\n",
    "}\n",
    "df_tatoeba_test = pd.DataFrame(data)"
   ]
  },
  {
   "cell_type": "code",
   "execution_count": 7,
   "id": "34093fdc",
   "metadata": {},
   "outputs": [],
   "source": [
    "main_train_set_path_hun = '../../data/Hunglish2/combined-32-simple/hunglish2-train.hu'\n",
    "main_train_set_path_eng = '../../data/Hunglish2/combined-32-simple/hunglish2-train.en'\n",
    "main_valid_set_path_hun = '../../data/Hunglish2/combined-32-simple/hunglish2-valid.hu'\n",
    "main_valid_set_path_eng = '../../data/Hunglish2/combined-32-simple/hunglish2-valid.en'"
   ]
  },
  {
   "cell_type": "code",
   "execution_count": 8,
   "id": "05dd485e",
   "metadata": {},
   "outputs": [],
   "source": [
    "hun_sentences = []\n",
    "eng_sentences = []\n",
    "with open(main_train_set_path_hun, 'r') as hun_file:\n",
    "    with open(main_train_set_path_eng, 'r') as eng_file:\n",
    "        for hun_line, eng_line in zip(hun_file, eng_file):\n",
    "            hun_sentences.append(hun_line.strip())\n",
    "            eng_sentences.append(eng_line.strip())\n",
    "            \n",
    "data = {\n",
    "    'hun': hun_sentences,\n",
    "    'eng': eng_sentences\n",
    "}\n",
    "df_hunglish_train = pd.DataFrame(data)"
   ]
  },
  {
   "cell_type": "code",
   "execution_count": 9,
   "id": "432f85df",
   "metadata": {},
   "outputs": [],
   "source": [
    "hun_sentences = []\n",
    "eng_sentences = []\n",
    "with open(main_valid_set_path_hun, 'r') as hun_file:\n",
    "    with open(main_valid_set_path_eng, 'r') as eng_file:\n",
    "        for hun_line, eng_line in zip(hun_file, eng_file):\n",
    "            hun_sentences.append(hun_line.strip())\n",
    "            eng_sentences.append(eng_line.strip())\n",
    "            \n",
    "data = {\n",
    "    'hun': hun_sentences,\n",
    "    'eng': eng_sentences\n",
    "}\n",
    "df_hunglish_valid = pd.DataFrame(data)"
   ]
  },
  {
   "cell_type": "markdown",
   "id": "fc73844d",
   "metadata": {},
   "source": [
    "# Check similarity"
   ]
  },
  {
   "cell_type": "code",
   "execution_count": 10,
   "id": "75ef4ce1",
   "metadata": {},
   "outputs": [
    {
     "data": {
      "text/html": [
       "<div>\n",
       "<style scoped>\n",
       "    .dataframe tbody tr th:only-of-type {\n",
       "        vertical-align: middle;\n",
       "    }\n",
       "\n",
       "    .dataframe tbody tr th {\n",
       "        vertical-align: top;\n",
       "    }\n",
       "\n",
       "    .dataframe thead th {\n",
       "        text-align: right;\n",
       "    }\n",
       "</style>\n",
       "<table border=\"1\" class=\"dataframe\">\n",
       "  <thead>\n",
       "    <tr style=\"text-align: right;\">\n",
       "      <th></th>\n",
       "      <th>hun</th>\n",
       "      <th>eng</th>\n",
       "    </tr>\n",
       "  </thead>\n",
       "  <tbody>\n",
       "    <tr>\n",
       "      <th>84</th>\n",
       "      <td>Dühös vagy?</td>\n",
       "      <td>Are you angry?</td>\n",
       "    </tr>\n",
       "    <tr>\n",
       "      <th>127</th>\n",
       "      <td>Áll az alku?</td>\n",
       "      <td>Deal?</td>\n",
       "    </tr>\n",
       "    <tr>\n",
       "      <th>153</th>\n",
       "      <td>Ez hihetetlen.</td>\n",
       "      <td>This is incredible.</td>\n",
       "    </tr>\n",
       "    <tr>\n",
       "      <th>189</th>\n",
       "      <td>Imádom a kölyköket.</td>\n",
       "      <td>I love kids.</td>\n",
       "    </tr>\n",
       "    <tr>\n",
       "      <th>193</th>\n",
       "      <td>Nincs nevem.</td>\n",
       "      <td>I have no name.</td>\n",
       "    </tr>\n",
       "    <tr>\n",
       "      <th>...</th>\n",
       "      <td>...</td>\n",
       "      <td>...</td>\n",
       "    </tr>\n",
       "    <tr>\n",
       "      <th>9799</th>\n",
       "      <td>Most már értem.</td>\n",
       "      <td>Now I understand.</td>\n",
       "    </tr>\n",
       "    <tr>\n",
       "      <th>9873</th>\n",
       "      <td>Semmit sem találtak.</td>\n",
       "      <td>They found nothing.</td>\n",
       "    </tr>\n",
       "    <tr>\n",
       "      <th>9887</th>\n",
       "      <td>Dohányoztál?</td>\n",
       "      <td>Have you been smoking?</td>\n",
       "    </tr>\n",
       "    <tr>\n",
       "      <th>9940</th>\n",
       "      <td>Menj dolgozni!</td>\n",
       "      <td>Go to work.</td>\n",
       "    </tr>\n",
       "    <tr>\n",
       "      <th>9956</th>\n",
       "      <td>Őrült vagy?</td>\n",
       "      <td>Are you mad?</td>\n",
       "    </tr>\n",
       "  </tbody>\n",
       "</table>\n",
       "<p>170 rows × 2 columns</p>\n",
       "</div>"
      ],
      "text/plain": [
       "                       hun                     eng\n",
       "84             Dühös vagy?          Are you angry?\n",
       "127           Áll az alku?                   Deal?\n",
       "153         Ez hihetetlen.     This is incredible.\n",
       "189    Imádom a kölyköket.            I love kids.\n",
       "193           Nincs nevem.         I have no name.\n",
       "...                    ...                     ...\n",
       "9799       Most már értem.       Now I understand.\n",
       "9873  Semmit sem találtak.     They found nothing.\n",
       "9887          Dohányoztál?  Have you been smoking?\n",
       "9940        Menj dolgozni!             Go to work.\n",
       "9956           Őrült vagy?            Are you mad?\n",
       "\n",
       "[170 rows x 2 columns]"
      ]
     },
     "execution_count": 10,
     "metadata": {},
     "output_type": "execute_result"
    }
   ],
   "source": [
    "df_ones_in_hunglish_train = pd.merge(df_tatoeba_test, df_hunglish_train.drop_duplicates(), indicator=True, how='outer').query('_merge==\"both\"').drop('_merge', axis=1)\n",
    "df_ones_in_hunglish_train"
   ]
  },
  {
   "cell_type": "code",
   "execution_count": 11,
   "id": "c291fd95",
   "metadata": {},
   "outputs": [
    {
     "data": {
      "text/html": [
       "<div>\n",
       "<style scoped>\n",
       "    .dataframe tbody tr th:only-of-type {\n",
       "        vertical-align: middle;\n",
       "    }\n",
       "\n",
       "    .dataframe tbody tr th {\n",
       "        vertical-align: top;\n",
       "    }\n",
       "\n",
       "    .dataframe thead th {\n",
       "        text-align: right;\n",
       "    }\n",
       "</style>\n",
       "<table border=\"1\" class=\"dataframe\">\n",
       "  <thead>\n",
       "    <tr style=\"text-align: right;\">\n",
       "      <th></th>\n",
       "      <th>hun</th>\n",
       "      <th>eng</th>\n",
       "    </tr>\n",
       "  </thead>\n",
       "  <tbody>\n",
       "    <tr>\n",
       "      <th>304</th>\n",
       "      <td>Süket vagy?</td>\n",
       "      <td>Are you deaf?</td>\n",
       "    </tr>\n",
       "    <tr>\n",
       "      <th>591</th>\n",
       "      <td>Mit akarsz?</td>\n",
       "      <td>What do you want?</td>\n",
       "    </tr>\n",
       "    <tr>\n",
       "      <th>2218</th>\n",
       "      <td>Nem.</td>\n",
       "      <td>No.</td>\n",
       "    </tr>\n",
       "    <tr>\n",
       "      <th>4791</th>\n",
       "      <td>Nézd!</td>\n",
       "      <td>Look!</td>\n",
       "    </tr>\n",
       "    <tr>\n",
       "      <th>5084</th>\n",
       "      <td>Tessék?</td>\n",
       "      <td>What?</td>\n",
       "    </tr>\n",
       "    <tr>\n",
       "      <th>5213</th>\n",
       "      <td>Segíthetek, uram?</td>\n",
       "      <td>Can I help you, sir?</td>\n",
       "    </tr>\n",
       "    <tr>\n",
       "      <th>7850</th>\n",
       "      <td>Érted?</td>\n",
       "      <td>Understand?</td>\n",
       "    </tr>\n",
       "    <tr>\n",
       "      <th>7951</th>\n",
       "      <td>Még valamit?</td>\n",
       "      <td>Anything else?</td>\n",
       "    </tr>\n",
       "    <tr>\n",
       "      <th>8603</th>\n",
       "      <td>Viszlát.</td>\n",
       "      <td>See you.</td>\n",
       "    </tr>\n",
       "    <tr>\n",
       "      <th>9215</th>\n",
       "      <td>Hol van most?</td>\n",
       "      <td>Where is he now?</td>\n",
       "    </tr>\n",
       "  </tbody>\n",
       "</table>\n",
       "</div>"
      ],
      "text/plain": [
       "                    hun                   eng\n",
       "304         Süket vagy?         Are you deaf?\n",
       "591         Mit akarsz?     What do you want?\n",
       "2218               Nem.                   No.\n",
       "4791              Nézd!                 Look!\n",
       "5084            Tessék?                 What?\n",
       "5213  Segíthetek, uram?  Can I help you, sir?\n",
       "7850             Érted?           Understand?\n",
       "7951       Még valamit?        Anything else?\n",
       "8603           Viszlát.              See you.\n",
       "9215      Hol van most?      Where is he now?"
      ]
     },
     "execution_count": 11,
     "metadata": {},
     "output_type": "execute_result"
    }
   ],
   "source": [
    "df_ones_in_hunglish_valid = pd.merge(df_tatoeba_test, df_hunglish_valid.drop_duplicates(), indicator=True, how='outer').query('_merge==\"both\"').drop('_merge', axis=1)\n",
    "df_ones_in_hunglish_valid"
   ]
  },
  {
   "cell_type": "code",
   "execution_count": 16,
   "id": "1a2b1e1f",
   "metadata": {},
   "outputs": [
    {
     "data": {
      "text/plain": [
       "3344230"
      ]
     },
     "execution_count": 16,
     "metadata": {},
     "output_type": "execute_result"
    }
   ],
   "source": [
    "df_hunglish_train.shape[0]+df_hunglish_valid.shape[0]"
   ]
  },
  {
   "cell_type": "code",
   "execution_count": 17,
   "id": "9504466d",
   "metadata": {},
   "outputs": [
    {
     "data": {
      "text/plain": [
       "((3344230, 2), (2506558, 2))"
      ]
     },
     "execution_count": 17,
     "metadata": {},
     "output_type": "execute_result"
    }
   ],
   "source": [
    "pd.concat([df_hunglish_train, df_hunglish_valid]).shape, pd.concat([df_hunglish_train, df_hunglish_valid]).drop_duplicates().shape"
   ]
  },
  {
   "cell_type": "code",
   "execution_count": 18,
   "id": "ed453ee1",
   "metadata": {},
   "outputs": [
    {
     "data": {
      "text/plain": [
       "837672"
      ]
     },
     "execution_count": 18,
     "metadata": {},
     "output_type": "execute_result"
    }
   ],
   "source": [
    "3344230-2506558"
   ]
  },
  {
   "cell_type": "code",
   "execution_count": 19,
   "id": "d58e2359",
   "metadata": {},
   "outputs": [
    {
     "data": {
      "text/html": [
       "<div>\n",
       "<style scoped>\n",
       "    .dataframe tbody tr th:only-of-type {\n",
       "        vertical-align: middle;\n",
       "    }\n",
       "\n",
       "    .dataframe tbody tr th {\n",
       "        vertical-align: top;\n",
       "    }\n",
       "\n",
       "    .dataframe thead th {\n",
       "        text-align: right;\n",
       "    }\n",
       "</style>\n",
       "<table border=\"1\" class=\"dataframe\">\n",
       "  <thead>\n",
       "    <tr style=\"text-align: right;\">\n",
       "      <th></th>\n",
       "      <th>hun</th>\n",
       "      <th>eng</th>\n",
       "    </tr>\n",
       "  </thead>\n",
       "  <tbody>\n",
       "    <tr>\n",
       "      <th>27</th>\n",
       "      <td>Élje csak át egy kicsit ezt a rettegést, gondo...</td>\n",
       "      <td>Let him experience this moment of terror, the ...</td>\n",
       "    </tr>\n",
       "    <tr>\n",
       "      <th>537</th>\n",
       "      <td>A fiú elismerte, hogy bizony az.</td>\n",
       "      <td>He admitted that he was.</td>\n",
       "    </tr>\n",
       "    <tr>\n",
       "      <th>968</th>\n",
       "      <td>Nem.</td>\n",
       "      <td>No.</td>\n",
       "    </tr>\n",
       "    <tr>\n",
       "      <th>969</th>\n",
       "      <td>Nem.</td>\n",
       "      <td>No.</td>\n",
       "    </tr>\n",
       "    <tr>\n",
       "      <th>970</th>\n",
       "      <td>Nem.</td>\n",
       "      <td>No.</td>\n",
       "    </tr>\n",
       "    <tr>\n",
       "      <th>...</th>\n",
       "      <td>...</td>\n",
       "      <td>...</td>\n",
       "    </tr>\n",
       "    <tr>\n",
       "      <th>5622241</th>\n",
       "      <td>Potter!</td>\n",
       "      <td>Potter.</td>\n",
       "    </tr>\n",
       "    <tr>\n",
       "      <th>5623948</th>\n",
       "      <td>Nyugi!</td>\n",
       "      <td>Hold on!</td>\n",
       "    </tr>\n",
       "    <tr>\n",
       "      <th>5625801</th>\n",
       "      <td>Hello, én vagyok.</td>\n",
       "      <td>Hi, its me.</td>\n",
       "    </tr>\n",
       "    <tr>\n",
       "      <th>5626523</th>\n",
       "      <td>Vissza, nigger!</td>\n",
       "      <td>Back up, nigger!</td>\n",
       "    </tr>\n",
       "    <tr>\n",
       "      <th>5626962</th>\n",
       "      <td>Olajban.</td>\n",
       "      <td>Fries.</td>\n",
       "    </tr>\n",
       "  </tbody>\n",
       "</table>\n",
       "<p>2498454 rows × 2 columns</p>\n",
       "</div>"
      ],
      "text/plain": [
       "                                                       hun  \\\n",
       "27       Élje csak át egy kicsit ezt a rettegést, gondo...   \n",
       "537                       A fiú elismerte, hogy bizony az.   \n",
       "968                                                   Nem.   \n",
       "969                                                   Nem.   \n",
       "970                                                   Nem.   \n",
       "...                                                    ...   \n",
       "5622241                                            Potter!   \n",
       "5623948                                             Nyugi!   \n",
       "5625801                                  Hello, én vagyok.   \n",
       "5626523                                    Vissza, nigger!   \n",
       "5626962                                           Olajban.   \n",
       "\n",
       "                                                       eng  \n",
       "27       Let him experience this moment of terror, the ...  \n",
       "537                               He admitted that he was.  \n",
       "968                                                    No.  \n",
       "969                                                    No.  \n",
       "970                                                    No.  \n",
       "...                                                    ...  \n",
       "5622241                                            Potter.  \n",
       "5623948                                           Hold on!  \n",
       "5625801                                        Hi, its me.  \n",
       "5626523                                   Back up, nigger!  \n",
       "5626962                                             Fries.  \n",
       "\n",
       "[2498454 rows x 2 columns]"
      ]
     },
     "execution_count": 19,
     "metadata": {},
     "output_type": "execute_result"
    }
   ],
   "source": [
    "pd.merge(df_hunglish_train, df_hunglish_valid, indicator=True, how='outer').query('_merge==\"both\"').drop('_merge', axis=1)"
   ]
  },
  {
   "cell_type": "code",
   "execution_count": 13,
   "id": "b6b15dca",
   "metadata": {},
   "outputs": [
    {
     "data": {
      "text/html": [
       "<div>\n",
       "<style scoped>\n",
       "    .dataframe tbody tr th:only-of-type {\n",
       "        vertical-align: middle;\n",
       "    }\n",
       "\n",
       "    .dataframe tbody tr th {\n",
       "        vertical-align: top;\n",
       "    }\n",
       "\n",
       "    .dataframe thead th {\n",
       "        text-align: right;\n",
       "    }\n",
       "</style>\n",
       "<table border=\"1\" class=\"dataframe\">\n",
       "  <thead>\n",
       "    <tr style=\"text-align: right;\">\n",
       "      <th></th>\n",
       "      <th>hun</th>\n",
       "      <th>eng</th>\n",
       "    </tr>\n",
       "  </thead>\n",
       "  <tbody>\n",
       "    <tr>\n",
       "      <th>2</th>\n",
       "      <td>A torony egy magasan levő ablakában fény deren...</td>\n",
       "      <td>There was a light gleaming from a high window ...</td>\n",
       "    </tr>\n",
       "    <tr>\n",
       "      <th>3</th>\n",
       "      <td>Talán valaki későn fejezte be a gyakorlatozást.</td>\n",
       "      <td>Maybe somebody finished practice late.</td>\n",
       "    </tr>\n",
       "    <tr>\n",
       "      <th>5</th>\n",
       "      <td>Künt őrök, bent strázsák, gúlába rakott fegyve...</td>\n",
       "      <td>There were sentinels, a guard in the court, st...</td>\n",
       "    </tr>\n",
       "    <tr>\n",
       "      <th>7</th>\n",
       "      <td>Majd én tartom őket... ezek a vacakok állandóa...</td>\n",
       "      <td>I had better hold em the consarned things curl...</td>\n",
       "    </tr>\n",
       "    <tr>\n",
       "      <th>8</th>\n",
       "      <td>szépséges Aranymag ott ült benn a sásban,</td>\n",
       "      <td>fair young Goldberry sitting in the rushes.</td>\n",
       "    </tr>\n",
       "    <tr>\n",
       "      <th>...</th>\n",
       "      <td>...</td>\n",
       "      <td>...</td>\n",
       "    </tr>\n",
       "    <tr>\n",
       "      <th>20756</th>\n",
       "      <td>120 méter.</td>\n",
       "      <td>1 20 meters.</td>\n",
       "    </tr>\n",
       "    <tr>\n",
       "      <th>20758</th>\n",
       "      <td>Okos vagy.</td>\n",
       "      <td>Youre smart.</td>\n",
       "    </tr>\n",
       "    <tr>\n",
       "      <th>20769</th>\n",
       "      <td>Várj !</td>\n",
       "      <td>Wait.</td>\n",
       "    </tr>\n",
       "    <tr>\n",
       "      <th>20775</th>\n",
       "      <td>Tudod.</td>\n",
       "      <td>You know.</td>\n",
       "    </tr>\n",
       "    <tr>\n",
       "      <th>20785</th>\n",
       "      <td>Gyere ide Jackal.</td>\n",
       "      <td>Come here Jackal.</td>\n",
       "    </tr>\n",
       "  </tbody>\n",
       "</table>\n",
       "<p>6759 rows × 2 columns</p>\n",
       "</div>"
      ],
      "text/plain": [
       "                                                     hun  \\\n",
       "2      A torony egy magasan levő ablakában fény deren...   \n",
       "3        Talán valaki későn fejezte be a gyakorlatozást.   \n",
       "5      Künt őrök, bent strázsák, gúlába rakott fegyve...   \n",
       "7      Majd én tartom őket... ezek a vacakok állandóa...   \n",
       "8              szépséges Aranymag ott ült benn a sásban,   \n",
       "...                                                  ...   \n",
       "20756                                         120 méter.   \n",
       "20758                                         Okos vagy.   \n",
       "20769                                             Várj !   \n",
       "20775                                             Tudod.   \n",
       "20785                                  Gyere ide Jackal.   \n",
       "\n",
       "                                                     eng  \n",
       "2      There was a light gleaming from a high window ...  \n",
       "3                 Maybe somebody finished practice late.  \n",
       "5      There were sentinels, a guard in the court, st...  \n",
       "7      I had better hold em the consarned things curl...  \n",
       "8            fair young Goldberry sitting in the rushes.  \n",
       "...                                                  ...  \n",
       "20756                                       1 20 meters.  \n",
       "20758                                       Youre smart.  \n",
       "20769                                              Wait.  \n",
       "20775                                          You know.  \n",
       "20785                                  Come here Jackal.  \n",
       "\n",
       "[6759 rows x 2 columns]"
      ]
     },
     "execution_count": 13,
     "metadata": {},
     "output_type": "execute_result"
    }
   ],
   "source": [
    "pd.merge(df_hunglish_valid.drop_duplicates(), df_hunglish_train.drop_duplicates(), indicator=True, how='outer').query('_merge==\"both\"').drop('_merge', axis=1)"
   ]
  },
  {
   "cell_type": "code",
   "execution_count": 19,
   "id": "216ff62d",
   "metadata": {},
   "outputs": [
    {
     "data": {
      "text/plain": [
       "((10000, 2), (10000, 2))"
      ]
     },
     "execution_count": 19,
     "metadata": {},
     "output_type": "execute_result"
    }
   ],
   "source": [
    "df_tatoeba_test.shape, df_tatoeba_test.drop_duplicates().shape"
   ]
  },
  {
   "cell_type": "code",
   "execution_count": 16,
   "id": "0199b78a",
   "metadata": {},
   "outputs": [
    {
     "data": {
      "text/plain": [
       "((3322594, 2), (2492510, 2))"
      ]
     },
     "execution_count": 16,
     "metadata": {},
     "output_type": "execute_result"
    }
   ],
   "source": [
    "df_hunglish_train.shape, df_hunglish_train.drop_duplicates().shape"
   ]
  },
  {
   "cell_type": "code",
   "execution_count": 18,
   "id": "51145c93",
   "metadata": {},
   "outputs": [
    {
     "data": {
      "text/plain": [
       "830084"
      ]
     },
     "execution_count": 18,
     "metadata": {},
     "output_type": "execute_result"
    }
   ],
   "source": [
    "3322594-2492510"
   ]
  },
  {
   "cell_type": "code",
   "execution_count": 17,
   "id": "df48a916",
   "metadata": {},
   "outputs": [
    {
     "data": {
      "text/plain": [
       "((21636, 2), (20807, 2))"
      ]
     },
     "execution_count": 17,
     "metadata": {},
     "output_type": "execute_result"
    }
   ],
   "source": [
    "df_hunglish_valid.shape, df_hunglish_valid.drop_duplicates().shape"
   ]
  },
  {
   "cell_type": "code",
   "execution_count": 22,
   "id": "ce2feb85",
   "metadata": {},
   "outputs": [],
   "source": [
    "our_huen_translation_path = '/home1/hu-nmt/patrick/opennmt/experiments/runs/hunglish-model-tatoeba-test-old/run/pred.en'\n",
    "our_enhu_translation_path = '/home1/hu-nmt/patrick/opennmt/experiments/runs/hunglish-model-tatoeba-test-old/run/pred.hu'"
   ]
  },
  {
   "cell_type": "code",
   "execution_count": 30,
   "id": "fa494561",
   "metadata": {},
   "outputs": [],
   "source": [
    "with open(our_huen_translation_path, 'r') as huen_translation_file:\n",
    "    huen_translation_sentences = [line.strip() for line in huen_translation_file]\n",
    "with open(our_enhu_translation_path, 'r') as enhu_translation_file:\n",
    "    enhu_translation_sentences = [line.strip() for line in enhu_translation_file]"
   ]
  },
  {
   "cell_type": "code",
   "execution_count": 38,
   "id": "69c1ffbf",
   "metadata": {},
   "outputs": [],
   "source": [
    "df_tatoeba_test['hun_translation'] = enhu_translation_sentences\n",
    "df_tatoeba_test['eng_translation'] = huen_translation_sentences"
   ]
  },
  {
   "cell_type": "code",
   "execution_count": 39,
   "id": "cd98c155",
   "metadata": {},
   "outputs": [
    {
     "data": {
      "text/html": [
       "<div>\n",
       "<style scoped>\n",
       "    .dataframe tbody tr th:only-of-type {\n",
       "        vertical-align: middle;\n",
       "    }\n",
       "\n",
       "    .dataframe tbody tr th {\n",
       "        vertical-align: top;\n",
       "    }\n",
       "\n",
       "    .dataframe thead th {\n",
       "        text-align: right;\n",
       "    }\n",
       "</style>\n",
       "<table border=\"1\" class=\"dataframe\">\n",
       "  <thead>\n",
       "    <tr style=\"text-align: right;\">\n",
       "      <th></th>\n",
       "      <th>hun</th>\n",
       "      <th>eng</th>\n",
       "      <th>hun_translation</th>\n",
       "      <th>eng_translation</th>\n",
       "    </tr>\n",
       "  </thead>\n",
       "  <tbody>\n",
       "    <tr>\n",
       "      <th>0</th>\n",
       "      <td>Ha többen csináljuk, jobban fog menni.</td>\n",
       "      <td>There's safety in numbers.</td>\n",
       "      <td>Számokban biztonságos.</td>\n",
       "      <td>If several of us do it, we can do better.</td>\n",
       "    </tr>\n",
       "    <tr>\n",
       "      <th>1</th>\n",
       "      <td>Becsületesnek tűnik.</td>\n",
       "      <td>He seems honest.</td>\n",
       "      <td>Ő becsületesnek látszik.</td>\n",
       "      <td>It looks honest.</td>\n",
       "    </tr>\n",
       "    <tr>\n",
       "      <th>2</th>\n",
       "      <td>A buszvezető nem látta a gyalogost.</td>\n",
       "      <td>The bus driver didn't see the pedestrian.</td>\n",
       "      <td>A buszvezető nem látta a gyalogost.</td>\n",
       "      <td>The bus driver did not see the pedestrian.</td>\n",
       "    </tr>\n",
       "    <tr>\n",
       "      <th>3</th>\n",
       "      <td>Tom nem akart odamenni sötétedés után.</td>\n",
       "      <td>Tom didn't want to go there after dark.</td>\n",
       "      <td>Tom nem akart sötétedés után odamenni.</td>\n",
       "      <td>Tom didnt want to go there after dark.</td>\n",
       "    </tr>\n",
       "    <tr>\n",
       "      <th>4</th>\n",
       "      <td>Nem hibáztathatlak.</td>\n",
       "      <td>I can't blame you.</td>\n",
       "      <td>Nem hibáztathatlak.</td>\n",
       "      <td>I cant blame you.</td>\n",
       "    </tr>\n",
       "    <tr>\n",
       "      <th>...</th>\n",
       "      <td>...</td>\n",
       "      <td>...</td>\n",
       "      <td>...</td>\n",
       "      <td>...</td>\n",
       "    </tr>\n",
       "    <tr>\n",
       "      <th>9995</th>\n",
       "      <td>Tom mindig mosolyog.</td>\n",
       "      <td>Tom is always smiling.</td>\n",
       "      <td>Tom mindig mosolyog.</td>\n",
       "      <td>Tom always smiles.</td>\n",
       "    </tr>\n",
       "    <tr>\n",
       "      <th>9996</th>\n",
       "      <td>Az asztalon van egy alma.</td>\n",
       "      <td>There is an apple on the desk.</td>\n",
       "      <td>Van egy alma az asztalon.</td>\n",
       "      <td>Theres an apple on the table.</td>\n",
       "    </tr>\n",
       "    <tr>\n",
       "      <th>9997</th>\n",
       "      <td>Ellene vagyok, hogy egyedül menjen oda.</td>\n",
       "      <td>I object to her going there alone.</td>\n",
       "      <td>Nem szívesen mennék oda egyedül.</td>\n",
       "      <td>I object to your going alone.</td>\n",
       "    </tr>\n",
       "    <tr>\n",
       "      <th>9998</th>\n",
       "      <td>A macskák nem szeretnek vizesek lenni.</td>\n",
       "      <td>Cats dislike being wet.</td>\n",
       "      <td>A macskák nem szeretnek vizes lenni.</td>\n",
       "      <td>Cats dont like being wet.</td>\n",
       "    </tr>\n",
       "    <tr>\n",
       "      <th>9999</th>\n",
       "      <td>Kerékpárral jár iskolába.</td>\n",
       "      <td>He goes to school by bicycle.</td>\n",
       "      <td>biciklin megy iskolába.</td>\n",
       "      <td>She goes to school with a bicycle.</td>\n",
       "    </tr>\n",
       "  </tbody>\n",
       "</table>\n",
       "<p>10000 rows × 4 columns</p>\n",
       "</div>"
      ],
      "text/plain": [
       "                                          hun  \\\n",
       "0      Ha többen csináljuk, jobban fog menni.   \n",
       "1                        Becsületesnek tűnik.   \n",
       "2         A buszvezető nem látta a gyalogost.   \n",
       "3      Tom nem akart odamenni sötétedés után.   \n",
       "4                         Nem hibáztathatlak.   \n",
       "...                                       ...   \n",
       "9995                     Tom mindig mosolyog.   \n",
       "9996                Az asztalon van egy alma.   \n",
       "9997  Ellene vagyok, hogy egyedül menjen oda.   \n",
       "9998   A macskák nem szeretnek vizesek lenni.   \n",
       "9999                Kerékpárral jár iskolába.   \n",
       "\n",
       "                                            eng  \\\n",
       "0                    There's safety in numbers.   \n",
       "1                              He seems honest.   \n",
       "2     The bus driver didn't see the pedestrian.   \n",
       "3       Tom didn't want to go there after dark.   \n",
       "4                            I can't blame you.   \n",
       "...                                         ...   \n",
       "9995                     Tom is always smiling.   \n",
       "9996             There is an apple on the desk.   \n",
       "9997         I object to her going there alone.   \n",
       "9998                    Cats dislike being wet.   \n",
       "9999              He goes to school by bicycle.   \n",
       "\n",
       "                             hun_translation  \\\n",
       "0                     Számokban biztonságos.   \n",
       "1                   Ő becsületesnek látszik.   \n",
       "2        A buszvezető nem látta a gyalogost.   \n",
       "3     Tom nem akart sötétedés után odamenni.   \n",
       "4                        Nem hibáztathatlak.   \n",
       "...                                      ...   \n",
       "9995                    Tom mindig mosolyog.   \n",
       "9996               Van egy alma az asztalon.   \n",
       "9997        Nem szívesen mennék oda egyedül.   \n",
       "9998    A macskák nem szeretnek vizes lenni.   \n",
       "9999                 biciklin megy iskolába.   \n",
       "\n",
       "                                 eng_translation  \n",
       "0      If several of us do it, we can do better.  \n",
       "1                               It looks honest.  \n",
       "2     The bus driver did not see the pedestrian.  \n",
       "3         Tom didnt want to go there after dark.  \n",
       "4                              I cant blame you.  \n",
       "...                                          ...  \n",
       "9995                          Tom always smiles.  \n",
       "9996               Theres an apple on the table.  \n",
       "9997               I object to your going alone.  \n",
       "9998                   Cats dont like being wet.  \n",
       "9999          She goes to school with a bicycle.  \n",
       "\n",
       "[10000 rows x 4 columns]"
      ]
     },
     "execution_count": 39,
     "metadata": {},
     "output_type": "execute_result"
    }
   ],
   "source": [
    "df_tatoeba_test"
   ]
  }
 ],
 "metadata": {
  "kernelspec": {
   "display_name": "Python 3 (ipykernel)",
   "language": "python",
   "name": "python3"
  },
  "language_info": {
   "codemirror_mode": {
    "name": "ipython",
    "version": 3
   },
   "file_extension": ".py",
   "mimetype": "text/x-python",
   "name": "python",
   "nbconvert_exporter": "python",
   "pygments_lexer": "ipython3",
   "version": "3.8.5"
  }
 },
 "nbformat": 4,
 "nbformat_minor": 5
}
