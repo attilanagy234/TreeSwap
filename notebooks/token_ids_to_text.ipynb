{
 "cells": [
  {
   "cell_type": "code",
   "execution_count": 1,
   "id": "champion-magazine",
   "metadata": {},
   "outputs": [],
   "source": [
    "import os\n",
    "import re\n",
    "import argparse\n",
    "import sys\n",
    "import logging\n",
    "import sentencepiece as spm"
   ]
  },
  {
   "cell_type": "code",
   "execution_count": 2,
   "id": "pregnant-torture",
   "metadata": {},
   "outputs": [],
   "source": [
    "handler = logging.StreamHandler(sys.stdout)\n",
    "handler.setFormatter(logging.Formatter('%(asctime)s %(levelname)-9s %(message)s'))\n",
    "\n",
    "log = logging.getLogger(__name__)\n",
    "log.setLevel(logging.INFO)\n",
    "log.addHandler(handler)"
   ]
  },
  {
   "cell_type": "code",
   "execution_count": 9,
   "id": "extreme-afghanistan",
   "metadata": {},
   "outputs": [],
   "source": [
    "data_path = \"../data/ftp.mokk.bme.hu/Hunglish2/combined-en-hu/\"\n",
    "file_path = data_path + \"hunglish2-valid.en\"\n",
    "\n",
    "sp_models_path = \"../opennmt/experiments-en-hu/sp_models/\"\n",
    "model_path = sp_models_path + \"bpe_en.model\""
   ]
  },
  {
   "cell_type": "code",
   "execution_count": 10,
   "id": "parliamentary-copyright",
   "metadata": {},
   "outputs": [],
   "source": [
    "spp = spm.SentencePieceProcessor(model_file=model_path)"
   ]
  },
  {
   "cell_type": "code",
   "execution_count": 13,
   "id": "basic-edinburgh",
   "metadata": {},
   "outputs": [
    {
     "name": "stdout",
     "output_type": "stream",
     "text": [
      "And I will confess his name before my Father and before his angels.\n",
      "\n",
      "If he mounts, we are gone.\n",
      "\n",
      "There was a light gleaming from a high window in the tower, that was all.\n",
      "\n",
      "Maybe somebody finished practice late.\n",
      "\n",
      "That one is burned into mine.\n",
      "\n",
      "There were sentinels, a guard in the court, stacks of arms, and horses saddled.\n",
      "\n",
      "\"Call thy father - he will know me.\"\"\"\n",
      "\n"
     ]
    }
   ],
   "source": [
    "with open(file_path, 'r') as original_file:\n",
    "    for i, line in enumerate(original_file):\n",
    "        print(spp.decode(line))\n",
    "        if i > 5: break"
   ]
  },
  {
   "cell_type": "code",
   "execution_count": 17,
   "id": "adjacent-thomas",
   "metadata": {},
   "outputs": [
    {
     "data": {
      "text/plain": [
       "'\"Call thy father - he will know me.\"\"\"\\n'"
      ]
     },
     "execution_count": 17,
     "metadata": {},
     "output_type": "execute_result"
    }
   ],
   "source": [
    "line"
   ]
  },
  {
   "cell_type": "code",
   "execution_count": 15,
   "id": "modern-yield",
   "metadata": {},
   "outputs": [
    {
     "data": {
      "text/plain": [
       "['\"Call', 'thy', 'father', '-', 'he', 'will', 'know', 'me.\"\"\"']"
      ]
     },
     "execution_count": 15,
     "metadata": {},
     "output_type": "execute_result"
    }
   ],
   "source": [
    "tokens = line.split()\n",
    "tokens"
   ]
  },
  {
   "cell_type": "code",
   "execution_count": 16,
   "id": "hairy-chamber",
   "metadata": {},
   "outputs": [
    {
     "data": {
      "text/plain": [
       "'\"Callthyfather-hewillknowme.\"\"\"'"
      ]
     },
     "execution_count": 16,
     "metadata": {},
     "output_type": "execute_result"
    }
   ],
   "source": [
    "spp.decode(tokens)"
   ]
  },
  {
   "cell_type": "code",
   "execution_count": 18,
   "id": "middle-measurement",
   "metadata": {},
   "outputs": [
    {
     "data": {
      "text/plain": [
       "'\"Call thy father - he will know me.\"\"\"\\n'"
      ]
     },
     "execution_count": 18,
     "metadata": {},
     "output_type": "execute_result"
    }
   ],
   "source": [
    "spp.decode(line)"
   ]
  },
  {
   "cell_type": "code",
   "execution_count": 3,
   "id": "painful-throw",
   "metadata": {},
   "outputs": [],
   "source": [
    "def pair_prediction(original_path, predicted_path, output_path=None, n_lines=None):\n",
    "    with open(original_path, 'r') as f:\n",
    "        original_lines = f.readlines()\n",
    "\n",
    "    with open(predicted_path, 'r') as f:\n",
    "        pred_lines = f.readlines()\n",
    "\n",
    "    original_length = len(original_lines)\n",
    "    pred_length = len(pred_lines)\n",
    "    n_best = pred_length // original_length\n",
    "\n",
    "    if pred_length % original_length != 0:\n",
    "        log.error(\"Files are different length\")\n",
    "        return\n",
    "    \n",
    "    log.info(f\"Beam n_best detected: {n_best}, # lines: {original_length}\")\n",
    "        \n",
    "    if output_path is None:\n",
    "        output_location = sys.stdout\n",
    "    else:\n",
    "        output_location = open(output_path, 'w')\n",
    "    \n",
    "    def get_lines(lines, n=1):\n",
    "        i = 0\n",
    "        for line in lines:\n",
    "            print(line, end='', file=output_location)\n",
    "            i += 1\n",
    "            if i == n:\n",
    "                i = 0\n",
    "                yield\n",
    "            \n",
    "    \n",
    "    if n_lines is None:\n",
    "        n_lines = original_length\n",
    "        \n",
    "    original_generator = get_lines(original_lines)\n",
    "    pred_generator = get_lines(pred_lines, n_best)\n",
    "    \n",
    "    for i in range(n_lines):\n",
    "        next(original_generator)\n",
    "        next(pred_generator)\n",
    "        print(file=output_location)\n",
    "        \n",
    "    if output_path is not None:\n",
    "        output_location.close()"
   ]
  },
  {
   "cell_type": "code",
   "execution_count": 5,
   "id": "atlantic-malpractice",
   "metadata": {},
   "outputs": [
    {
     "name": "stdout",
     "output_type": "stream",
     "text": [
      "2021-03-14 16:39:33,810 INFO      Beam n_best detected: 8, # lines: 21673\n"
     ]
    }
   ],
   "source": [
    "output_folder = \"../opennmt/experiments-en-hu/runs/en-hu/run/\"\n",
    "\n",
    "original_path = output_folder + \"valid.txt\"\n",
    "predicted_path = output_folder + \"pred.txt.sp\"\n",
    "\n",
    "pair_prediction(original_path, predicted_path,\n",
    "                n_lines=20,\n",
    "                output_path = output_folder + \"paired.txt\"\n",
    "               )"
   ]
  },
  {
   "cell_type": "code",
   "execution_count": null,
   "id": "talented-shopper",
   "metadata": {},
   "outputs": [],
   "source": [
    "for line in "
   ]
  }
 ],
 "metadata": {
  "kernelspec": {
   "display_name": "Python 3",
   "language": "python",
   "name": "python3"
  },
  "language_info": {
   "codemirror_mode": {
    "name": "ipython",
    "version": 3
   },
   "file_extension": ".py",
   "mimetype": "text/x-python",
   "name": "python",
   "nbconvert_exporter": "python",
   "pygments_lexer": "ipython3",
   "version": "3.8.5"
  }
 },
 "nbformat": 4,
 "nbformat_minor": 5
}
