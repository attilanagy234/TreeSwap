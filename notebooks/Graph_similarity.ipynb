{
 "cells": [
  {
   "cell_type": "code",
   "execution_count": 3,
   "id": "1785883e",
   "metadata": {},
   "outputs": [],
   "source": [
    "import pandas as pd"
   ]
  },
  {
   "cell_type": "code",
   "execution_count": 16,
   "id": "4fd714f0",
   "metadata": {},
   "outputs": [],
   "source": [
    "def get_random_sentences(df, src, tgt):\n",
    "    bins = df.sort_values('norm_dist').bin.unique().tolist()\n",
    "    sents = {}\n",
    "    for b in bins:\n",
    "        print(f'{b.left}-{b.right}\\n')\n",
    "        sampled = df[df['bin'] == b].sample(n=3)\n",
    "        sents[b] = []\n",
    "        for hu_idx, en_idx in zip(sampled.src_idx,sampled.tgt_idx):\n",
    "            print('\\t' + src[hu_idx])\n",
    "            print('\\t' + tgt[en_idx])\n",
    "            print('')\n",
    "            sents[b].append((src[hu_idx], tgt[en_idx]))\n",
    "    return sents"
   ]
  },
  {
   "cell_type": "code",
   "execution_count": 17,
   "id": "9e331508",
   "metadata": {},
   "outputs": [],
   "source": [
    "huen_rnd_file = '~/BME/nmt/graph_test/hu-en-rnd-True.csv'\n",
    "huen_file = '~/BME/nmt/graph_test/hu-en-rnd-False.csv'\n",
    "hu_rnd_file = '~/BME/nmt/graph_test/hu-hu-rnd-True.csv'\n",
    "en_rnd_file = '~/BME/nmt/graph_test/en-en-rnd-True.csv'\n",
    "\n",
    "hu_sent_file = '/home/dorka/BME/nmt/graph_test/sampled-1000.hu'\n",
    "en_sent_file = '/home/dorka/BME/nmt/graph_test/sampled-1000.en'\n",
    "\n",
    "huen_rnd = pd.read_csv(huen_rnd_file, sep=',')\n",
    "huen_rnd['bin'] = pd.cut(huen_rnd['norm_dist'], 5)\n",
    "\n",
    "huen = pd.read_csv(huen_file, sep=',')\n",
    "huen['bin'] = pd.cut(huen['norm_dist'], 5)\n",
    "\n",
    "hu_rnd = pd.read_csv(hu_rnd_file, sep=',')\n",
    "hu_rnd['bin'] = pd.cut(hu_rnd['norm_dist'], 5)\n",
    "\n",
    "en_rnd = pd.read_csv(en_rnd_file, sep=',')\n",
    "en_rnd['bin'] = pd.cut(en_rnd['norm_dist'], 5)\n",
    "\n",
    "with open(hu_sent_file, 'r') as f:\n",
    "    hu_sents = f.readlines()\n",
    "    hu_sents = [s.rstrip() for s in hu_sents]\n",
    "with open(en_sent_file, 'r') as f:\n",
    "    en_sents = f.readlines()\n",
    "    en_sents = [s.rstrip() for s in en_sents]"
   ]
  },
  {
   "cell_type": "markdown",
   "id": "a3be9184",
   "metadata": {},
   "source": [
    "## hu-en random pairs"
   ]
  },
  {
   "cell_type": "code",
   "execution_count": 18,
   "id": "ec86111d",
   "metadata": {},
   "outputs": [
    {
     "data": {
      "text/plain": [
       "<AxesSubplot:ylabel='Frequency'>"
      ]
     },
     "execution_count": 18,
     "metadata": {},
     "output_type": "execute_result"
    },
    {
     "data": {
      "image/png": "[encoded data removed]",
      "text/plain": [
       "<Figure size 432x288 with 1 Axes>"
      ]
     },
     "metadata": {
      "needs_background": "light"
     },
     "output_type": "display_data"
    }
   ],
   "source": [
    "huen_rnd.norm_dist.plot.hist(bins=40, xticks=[0.0,0.1, 0.2, 0.3,0.4,0.5,0.6,0.7,0.8,0.9,1.0],\n",
    "                             yticks=range(0, 100, 10))"
   ]
  },
  {
   "cell_type": "code",
   "execution_count": 19,
   "id": "f7d26d4f",
   "metadata": {
    "scrolled": false
   },
   "outputs": [
    {
     "name": "stdout",
     "output_type": "stream",
     "text": [
      "-0.000706-0.141\n",
      "\n",
      "\tAzt mondtad, hogy csak fegyvere van.\n",
      "\tName=Mutt\n",
      "\n",
      "\tKi lopta el a pénzt?\n",
      "\tPartial Transfers\n",
      "\n",
      "\tAz ópium kínjai\n",
      "\tBut hold fast, Murbella, to love for Duncan!\n",
      "\n",
      "0.141-0.282\n",
      "\n",
      "\tTúl költséges.\n",
      "\tPregnant women and nursing mothers must be able to lie down to rest in appropriate conditions.\n",
      "\n",
      "\tIlyesmi valóban létezik?\n",
      "\tI noticed the bruised place on her arm where something had obviously been injected into a vein.\n",
      "\n",
      "\tE rendelkezések szövegét, valamint az e rendelkezések és az irányelv közötti megfelelést bemutató táblázatot haladéktalanul megküldik a Bizottságnak.\n",
      "\tThat is your prerogative, of course.\n",
      "\n",
      "0.282-0.424\n",
      "\n",
      "\tLehet, hogy csak meggondolta magát, lehet, hogy megsejtette a gyanúmat, hiszen feltűnően könnyen voltam hajlandó rendőrök nélkül elmenni a találkára.\n",
      "\tIvy is consuming the outer walls, and appears to be making its way through the cracked window.\n",
      "\n",
      "\tHa ezt kéred, természetesen megígérem, de?\n",
      "\tWe had some wonderful Szechwan Duck in Beijing, because thats what they eat there.\n",
      "\n",
      "\tAzt az embert, aki ott áll a legnagyobb henger mellett.\n",
      "\twhen bilaterally agreed, provide the automatic acceptance of an ACT or REV message that has passed the filter in the accepting unit (in place of the LAM);\n",
      "\n",
      "0.424-0.565\n",
      "\n",
      "\tNem messze tőle hamarosan felbukkant egy malacka.\n",
      "\tHowever, some of the forms seem more specialized than one would expect.\n",
      "\n",
      "\tKi az őrszem? kérdezte.\n",
      "\tShit, he thought.\n",
      "\n",
      "\tMindenekelőtt a rakétáikat kell kivonnunk a játékból.\n",
      "\tMr. Micawber had a few books on a little chiffonier, which he called the library; and those went first.\n",
      "\n",
      "0.565-0.706\n",
      "\n",
      "\tA halántéka deresedett.\n",
      "\tYou see that sign?\n",
      "\n",
      "\tLátja a jelzést?\n",
      "\tBut would he have the impetus?\n",
      "\n",
      "\tElfelejtettem.\n",
      "\tTarget lock.\n",
      "\n"
     ]
    }
   ],
   "source": [
    "huen_rnd_sents = get_random_sentences(huen_rnd, hu_sents, en_sents)"
   ]
  },
  {
   "cell_type": "markdown",
   "id": "5dd778d9",
   "metadata": {},
   "source": [
    "## hu-en translated pairs"
   ]
  },
  {
   "cell_type": "code",
   "execution_count": 20,
   "id": "18c849f9",
   "metadata": {},
   "outputs": [
    {
     "data": {
      "text/plain": [
       "<AxesSubplot:ylabel='Frequency'>"
      ]
     },
     "execution_count": 20,
     "metadata": {},
     "output_type": "execute_result"
    },
    {
     "data": {
      "image/png": "[encoded data removed]",
      "text/plain": [
       "<Figure size 432x288 with 1 Axes>"
      ]
     },
     "metadata": {
      "needs_background": "light"
     },
     "output_type": "display_data"
    }
   ],
   "source": [
    "huen.norm_dist.plot.hist(bins=40, xticks=[0.0,0.1, 0.2, 0.3,0.4,0.5,0.6,0.7,0.8,0.9,1.0], \n",
    "                         yticks=range(0, 100, 10))"
   ]
  },
  {
   "cell_type": "code",
   "execution_count": 21,
   "id": "4f8e7013",
   "metadata": {},
   "outputs": [
    {
     "name": "stdout",
     "output_type": "stream",
     "text": [
      "-0.000882-0.176\n",
      "\n",
      "\t2. MEGHATÁROZÁSOK\n",
      "\t2. DEFINITION\n",
      "\n",
      "\t4.2.1.1.\n",
      "\t4.2.1.1.\n",
      "\n",
      "\tHát nem ez történt.\n",
      "\tNo, that was not the way it was.\n",
      "\n",
      "0.176-0.353\n",
      "\n",
      "\tELFOGADTA EZT A RENDELETET: 1. cikk 1.\n",
      "\tHAS ADOPTED THIS REGULATION: Article 1 1.\n",
      "\n",
      "\tEnnek az irányelvnek a tagállamok a címzettjei.\n",
      "\tThis Directive is addressed to the Member States.\n",
      "\n",
      "\ttekintettel az Európai Parlament véleményére[1],\n",
      "\tHaving regard to the opinion of the European Parliament (1),\n",
      "\n",
      "0.353-0.529\n",
      "\n",
      "\tÉs az ember csak fogta magát, rendelt, amennyit akart, és nem kellett űrlapokat kitölteni, és nem is volt fűtőanyaghiány?\n",
      "\tAnd anyone could go and buy as much as they wanted, without filling in anything, and there wasnt any shortage ?\n",
      "\n",
      "\tÉs a következő pillanatban Rosa sápadt és eltorzult arcát látta maga előtt.\n",
      "\tAlmost at the same instant he saw before him the pale and distracted face of Rosa.\n",
      "\n",
      "\tA célok és köztes célok tiszteletben tartásának ellenőrzése reális feltételek mellett és hitelesen, világos és megbízható mutatók használatával lehetséges kell, hogy legyen.\n",
      "\tIt must be possible to monitor compliance with objectives and (interim) targets in an affordable and credible way using clear and reliable indicators.\n",
      "\n",
      "0.529-0.706\n",
      "\n",
      "\tItt a viszontbiztosítók bruttó összegből való részesedése szerepel.\n",
      "\tHere the reinsurers share of the gross amount is recorded.\n",
      "\n",
      "\tEzen árakat és vámokat legutóbb a 894/2006/EK bizottsági rendelet [4] rendelet módósította.\n",
      "\tThese prices and duties were last amended by Commission Regulation (EC) No 894/2006 [4].\n",
      "\n",
      "\tNagyszerű,gondolta Cuki.\n",
      "\tPerfect, Candy thought.\n",
      "\n",
      "0.706-0.882\n",
      "\n",
      "\tCuki bólintott.\n",
      "\tCandy nodded.\n",
      "\n",
      "\tRészleges átruházás\n",
      "\tPartial Transfers\n",
      "\n",
      "\tAz alábbi táblázat szemlélteti ezeket a tendenciákat.\n",
      "\tThe table below illustrates these trends.\n",
      "\n"
     ]
    }
   ],
   "source": [
    "huen_sents = get_random_sentences(huen, hu_sents, en_sents)"
   ]
  },
  {
   "cell_type": "markdown",
   "id": "1305e20f",
   "metadata": {},
   "source": [
    "## hu random pairs"
   ]
  },
  {
   "cell_type": "code",
   "execution_count": 22,
   "id": "d1d6615d",
   "metadata": {},
   "outputs": [
    {
     "data": {
      "text/plain": [
       "<AxesSubplot:ylabel='Frequency'>"
      ]
     },
     "execution_count": 22,
     "metadata": {},
     "output_type": "execute_result"
    },
    {
     "data": {
      "image/png": "[encoded data removed]",
      "text/plain": [
       "<Figure size 432x288 with 1 Axes>"
      ]
     },
     "metadata": {
      "needs_background": "light"
     },
     "output_type": "display_data"
    }
   ],
   "source": [
    "hu_rnd.norm_dist.plot.hist(bins=40, xticks=[0.0,0.1,0.2, 0.3,0.4,0.5,0.6,0.7,0.8,0.9,1.0], \n",
    "                           yticks=range(0, 100, 10))"
   ]
  },
  {
   "cell_type": "code",
   "execution_count": 26,
   "id": "7c5dbfff",
   "metadata": {},
   "outputs": [
    {
     "name": "stdout",
     "output_type": "stream",
     "text": [
      "-0.001-0.2\n",
      "\n",
      "\tCsatlakozhat Wiscard maradék bandájához a Rőt Csillagokban.\n",
      "\t4.10.\n",
      "\n",
      "\tOlyan volt, mint a halál markolása.\n",
      "\tJaggerrel maga ne akarjon szórakozni, kisapám.\n",
      "\n",
      "\ta Bizottság részéről\n",
      "\tTeg kénytelen volt elismerni, hogy a Gammu vadonjának begyaloglása egészen új perspektívát adott neki.\n",
      "\n",
      "0.2-0.4\n",
      "\n",
      "\tAmi azonban nem akadályoz meg abban, hogy valami galádság miatt idecitálj.\n",
      "\tUllman elfordította az emelőkart, de egy pillanatig semmi sem történt, csak a padló remegett a lábuk alatt, és hallották, hogy odalent kínlódva felnyöszörög a motor.\n",
      "\n",
      "\tDe Saulnak volt jobb ötlete.\n",
      "\tLopva, tétovázva visszatekintett rám.\n",
      "\n",
      "\tMaga találta meg a tetemet.\n",
      "\tMivel eltérő összeállítások is adhatnak pontos eredményt, ezért a rajzzal való teljes egyezés nem szükséges.\n",
      "\n",
      "0.4-0.6\n",
      "\n",
      "\tAz egyes fokozatok áttétele:\n",
      "\t8. cikk\n",
      "\n",
      "\tNem kellett volna ezt tennie!\n",
      "\tCélba vettem.\n",
      "\n",
      "\t-Bosszant a csajod.\n",
      "\tNem igazán olyannak, mint egy rák.\n",
      "\n",
      "0.6-0.8\n",
      "\n",
      "\tPénze van?\n",
      "\tLelkesítő szavak mondta Trout.\n",
      "\n",
      "\tRemélem, megjön az eszed.\n",
      "\tNem hallottad a riadót?\n",
      "\n",
      "\tA lány bólintott.\n",
      "\tMaradjon ki az életemből.\n",
      "\n",
      "0.8-1.0\n",
      "\n",
      "\t33. cikk\n",
      "\t10. cikk\n",
      "\n",
      "\tRalph Jackre nézett.\n",
      "\tKövesszétek Szméagolt!\n",
      "\n",
      "\t1. cikk\n",
      "\t33. cikk\n",
      "\n"
     ]
    }
   ],
   "source": [
    "hu_rnd_sents = get_random_sentences(hu_rnd, hu_sents, hu_sents)"
   ]
  },
  {
   "cell_type": "markdown",
   "id": "9ebf0390",
   "metadata": {},
   "source": [
    "## en random pairs"
   ]
  },
  {
   "cell_type": "code",
   "execution_count": 24,
   "id": "9bfb42b3",
   "metadata": {},
   "outputs": [
    {
     "data": {
      "text/plain": [
       "<AxesSubplot:ylabel='Frequency'>"
      ]
     },
     "execution_count": 24,
     "metadata": {},
     "output_type": "execute_result"
    },
    {
     "data": {
      "image/png": "[encoded data removed]",
      "text/plain": [
       "<Figure size 432x288 with 1 Axes>"
      ]
     },
     "metadata": {
      "needs_background": "light"
     },
     "output_type": "display_data"
    }
   ],
   "source": [
    "en_rnd.norm_dist.plot.hist(bins=40, xticks=[0.0,0.1, 0.2, 0.3,0.4,0.5,0.6,0.7,0.8,0.9,1.0], \n",
    "                           yticks=range(0, 100, 10))"
   ]
  },
  {
   "cell_type": "code",
   "execution_count": 25,
   "id": "d1a2b13d",
   "metadata": {},
   "outputs": [
    {
     "name": "stdout",
     "output_type": "stream",
     "text": [
      "-0.0008-0.16\n",
      "\n",
      "\tPosition\n",
      "\tThey will seek their quiet security thereafter only with extreme caution and steadfast preparation.\n",
      "\n",
      "\tCriterion 5\n",
      "\tWhat I say is, said Mr Blatt, whats wrong with Scotland Yard?\n",
      "\n",
      "\tI have the instinctive reaction of Western man when confronted with the sublimely incomprehensible: I grab my camera and start to photograph it.\n",
      "\tArticle 11a\n",
      "\n",
      "0.16-0.32\n",
      "\n",
      "\tThis woman came out of the brownstone with the duplex and triplex.\n",
      "\tDid I not love this child too much to do what I planned to do?\n",
      "\n",
      "\tNo, the real mystery&mdash;the only mystery&mdash;is inside our heads.\n",
      "\tYes.\n",
      "\n",
      "\tHaving regard to the proposal from the Commission,\n",
      "\tGenetic type, line: .\n",
      "\n",
      "0.32-0.48\n",
      "\n",
      "\tSi, Marchese, Luigi answered.\n",
      "\tThe lieutenant-colonel, moreover, knew her.\n",
      "\n",
      "\tHes sitting, or standing, or whatever it is he does, about two metres on the other side of the screen.\n",
      "\tI thought that some local citizens should welcome you.\n",
      "\n",
      "\tThe closer she got to him the worse he looked.\n",
      "\tSuch authorization shall be sought from the authorities of the home Member State by:\n",
      "\n",
      "0.48-0.64\n",
      "\n",
      "\tBut at that last minute probably something snapped and you pulled a faint.\n",
      "\tI have a good job here, but a job is all it is.\n",
      "\n",
      "\tWell never know unless we put the question to him directly, will we?\n",
      "\tWe were hired to do the job.\n",
      "\n",
      "\tIm telling you, they have a sign right in the window... says Whites Only.\n",
      "\tThe ICMP messages typically report errors in the processing of datagrams.\n",
      "\n",
      "0.64-0.8\n",
      "\n",
      "\tHis mother never told him the truth.\n",
      "\tMy grandmothers the first person ever punched me in the face.\n",
      "\n",
      "\tYou hearing anything else?\n",
      "\tWill she permit it?\n",
      "\n",
      "\tOne of the capsules dropped from her hand to the coverlet.\n",
      "\tBecause in this ancient Mycogenian book, they talk of robots.\n",
      "\n"
     ]
    }
   ],
   "source": [
    "en_rnd_sents = get_random_sentences(en_rnd, en_sents, en_sents)"
   ]
  },
  {
   "cell_type": "code",
   "execution_count": null,
   "id": "00dcc461",
   "metadata": {},
   "outputs": [],
   "source": []
  },
  {
   "cell_type": "code",
   "execution_count": null,
   "id": "635f9aab",
   "metadata": {},
   "outputs": [],
   "source": []
  }
 ],
 "metadata": {
  "kernelspec": {
   "display_name": "Python 3 (ipykernel)",
   "language": "python",
   "name": "python3"
  },
  "language_info": {
   "codemirror_mode": {
    "name": "ipython",
    "version": 3
   },
   "file_extension": ".py",
   "mimetype": "text/x-python",
   "name": "python",
   "nbconvert_exporter": "python",
   "pygments_lexer": "ipython3",
   "version": "3.8.5"
  }
 },
 "nbformat": 4,
 "nbformat_minor": 5
}
